{
 "cells": [
  {
   "cell_type": "code",
   "execution_count": 1,
   "id": "d07b4c02",
   "metadata": {},
   "outputs": [],
   "source": [
    "import numpy as np\n",
    "import math as m\n",
    "\n",
    "def cart2sph(x,y,z):\n",
    "    XsqPlusYsq = x**2 + y**2\n",
    "    r = m.sqrt(XsqPlusYsq + z**2)               # r\n",
    "    elev = m.atan2(z,m.sqrt(XsqPlusYsq))     # theta\n",
    "    az = m.atan2(y,x)                           # phi\n",
    "    return r, elev, az\n",
    "\n",
    "def cart2sphA(pts):\n",
    "    return np.array([cart2sph(x,y,z) for x,y,z in pts])\n",
    "\n",
    "def appendSpherical(xyz):\n",
    "    np.hstack((xyz, cart2sphA(xyz)))"
   ]
  },
  {
   "cell_type": "code",
   "execution_count": 3,
   "id": "9ed0aa65",
   "metadata": {},
   "outputs": [
    {
     "name": "stdout",
     "output_type": "stream",
     "text": [
      "4.123105625617661\n",
      "0.8148269163709889\n",
      "0.7853981633974483\n"
     ]
    }
   ],
   "source": [
    "r,elev,az=cart2sph(2,2,3)\n",
    "print (r)\n",
    "print (elev)\n",
    "print (az)"
   ]
  },
  {
   "cell_type": "code",
   "execution_count": 1,
   "id": "2f6a326b",
   "metadata": {},
   "outputs": [],
   "source": [
    "import numpy as np\n",
    "\n",
    "xyz=np.array([[2,2,3]])\n",
    "\n",
    "def appendSpherical_np(xyz):\n",
    "    ptsnew = np.hstack((xyz, np.zeros(xyz.shape)))\n",
    "    xy = xyz[:,0]**2 + xyz[:,1]**2\n",
    "    r = np.sqrt(xy + xyz[:,2]**2)\n",
    "    #ptsnew[:,4] = np.arctan2(np.sqrt(xy), xyz[:,2]) # for elevation angle defined from Z-axis down\n",
    "    theta = np.arctan2(xyz[:,2], np.sqrt(xy)) # for elevation angle defined from XY-plane up\n",
    "    phi = np.arctan2(xyz[:,1], xyz[:,0])\n",
    "    \n",
    "    cal=np.array([[r,theta,phi]])\n",
    "    return cal"
   ]
  },
  {
   "cell_type": "code",
   "execution_count": 76,
   "id": "864b1c36",
   "metadata": {},
   "outputs": [],
   "source": []
  },
  {
   "cell_type": "code",
   "execution_count": 77,
   "id": "b17e7482",
   "metadata": {},
   "outputs": [
    {
     "data": {
      "text/plain": [
       "(1, 3)"
      ]
     },
     "execution_count": 77,
     "metadata": {},
     "output_type": "execute_result"
    }
   ],
   "source": [
    "xyz.shape"
   ]
  },
  {
   "cell_type": "code",
   "execution_count": 78,
   "id": "0d612ca6",
   "metadata": {},
   "outputs": [
    {
     "data": {
      "text/plain": [
       "array([[0., 0., 0.]])"
      ]
     },
     "execution_count": 78,
     "metadata": {},
     "output_type": "execute_result"
    }
   ],
   "source": [
    "np.zeros(xyz.shape)"
   ]
  },
  {
   "cell_type": "code",
   "execution_count": 79,
   "id": "850a698b",
   "metadata": {},
   "outputs": [
    {
     "data": {
      "text/plain": [
       "array([2])"
      ]
     },
     "execution_count": 79,
     "metadata": {},
     "output_type": "execute_result"
    }
   ],
   "source": [
    "xyz[:,1]"
   ]
  },
  {
   "cell_type": "code",
   "execution_count": 80,
   "id": "382b0f4f",
   "metadata": {},
   "outputs": [
    {
     "data": {
      "text/plain": [
       "array([2])"
      ]
     },
     "execution_count": 80,
     "metadata": {},
     "output_type": "execute_result"
    }
   ],
   "source": [
    "xyz[:,0]"
   ]
  },
  {
   "cell_type": "code",
   "execution_count": 2,
   "id": "a0fec899",
   "metadata": {},
   "outputs": [
    {
     "name": "stdout",
     "output_type": "stream",
     "text": [
      "[[[4.12310563]\n",
      "  [0.81482692]\n",
      "  [0.78539816]]]\n"
     ]
    }
   ],
   "source": [
    "ptsnew=appendSpherical_np(xyz)\n",
    "print(ptsnew)"
   ]
  },
  {
   "cell_type": "code",
   "execution_count": null,
   "id": "4f7955bb",
   "metadata": {},
   "outputs": [],
   "source": []
  }
 ],
 "metadata": {
  "kernelspec": {
   "display_name": "Python 3 (ipykernel)",
   "language": "python",
   "name": "python3"
  },
  "language_info": {
   "codemirror_mode": {
    "name": "ipython",
    "version": 3
   },
   "file_extension": ".py",
   "mimetype": "text/x-python",
   "name": "python",
   "nbconvert_exporter": "python",
   "pygments_lexer": "ipython3",
   "version": "3.7.11"
  }
 },
 "nbformat": 4,
 "nbformat_minor": 5
}
